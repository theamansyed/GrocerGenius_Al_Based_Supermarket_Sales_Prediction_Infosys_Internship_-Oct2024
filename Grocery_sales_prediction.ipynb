{
  "nbformat": 4,
  "nbformat_minor": 0,
  "metadata": {
    "colab": {
      "provenance": []
    },
    "kernelspec": {
      "name": "python3",
      "display_name": "Python 3"
    },
    "language_info": {
      "name": "python"
    }
  },
  "cells": [
    {
      "cell_type": "markdown",
      "source": [
        "## 1. Importing Required Libraries\n",
        "\n",
        "Importing all necessary libraries for:\n",
        "- Data manipulation and visualization (`numpy`, `pandas`, `matplotlib`, `seaborn`)\n",
        "- Machine learning modeling and preprocessing (`scikit-learn`, `xgboost`)\n",
        "- Model evaluation and export (`r2_score`, `pickle`, `joblib`)\n",
        "- Suppressing warnings and setting consistent plot styles for analysis\n"
      ],
      "metadata": {
        "id": "3bmTWsw5xryC"
      }
    },
    {
      "cell_type": "code",
      "source": [
        "# Data manipulation\n",
        "import numpy as np\n",
        "import pandas as pd\n",
        "\n",
        "# Visualization\n",
        "import matplotlib.pyplot as plt\n",
        "import seaborn as sns\n",
        "\n",
        "# Modeling\n",
        "from sklearn.model_selection import train_test_split, RandomizedSearchCV\n",
        "from sklearn.preprocessing import MinMaxScaler, StandardScaler, PowerTransformer, OneHotEncoder, OrdinalEncoder\n",
        "from sklearn.linear_model import LinearRegression\n",
        "from sklearn.ensemble import RandomForestRegressor, GradientBoostingRegressor\n",
        "from sklearn.neural_network import MLPRegressor\n",
        "from sklearn.metrics import mean_squared_error, r2_score\n",
        "from xgboost import XGBRegressor\n",
        "\n",
        "# Exporting models\n",
        "from joblib import dump\n",
        "import pickle\n",
        "\n",
        "# Warnings\n",
        "import warnings\n",
        "warnings.filterwarnings('ignore')\n",
        "\n",
        "# Seaborn style\n",
        "sns.set_theme(style=\"darkgrid\", palette=\"muted\")\n"
      ],
      "metadata": {
        "id": "sV9q77ykwOSd"
      },
      "execution_count": null,
      "outputs": []
    },
    {
      "cell_type": "markdown",
      "source": [
        "## 2. Uploading and Loading the Dataset\n",
        "\n",
        "Upload the `Train.csv` file using Google Colab’s file upload utility and load it into a pandas DataFrame.  \n",
        "Displays the shape of the dataset and previews the first few rows to verify successful import.\n"
      ],
      "metadata": {
        "id": "PRd0h4_2xgJt"
      }
    },
    {
      "cell_type": "code",
      "source": [
        "# Upload Train.csv\n",
        "from google.colab import files\n",
        "uploaded = files.upload()\n",
        "\n",
        "# Confirm the file and load it\n",
        "df = pd.read_csv(\"Train.csv\")\n",
        "print(\"Shape of dataset:\", df.shape)\n",
        "df.head()\n",
        "\n"
      ],
      "metadata": {
        "colab": {
          "base_uri": "https://localhost:8080/",
          "height": 386
        },
        "id": "O31H2VbmwOUW",
        "outputId": "9e9f8ee5-9e43-4bd6-b341-8ce17e19ab57"
      },
      "execution_count": null,
      "outputs": [
        {
          "output_type": "display_data",
          "data": {
            "text/plain": [
              "<IPython.core.display.HTML object>"
            ],
            "text/html": [
              "\n",
              "     <input type=\"file\" id=\"files-2ecdb6aa-d048-4db2-9587-a809b9cf81d9\" name=\"files[]\" multiple disabled\n",
              "        style=\"border:none\" />\n",
              "     <output id=\"result-2ecdb6aa-d048-4db2-9587-a809b9cf81d9\">\n",
              "      Upload widget is only available when the cell has been executed in the\n",
              "      current browser session. Please rerun this cell to enable.\n",
              "      </output>\n",
              "      <script>// Copyright 2017 Google LLC\n",
              "//\n",
              "// Licensed under the Apache License, Version 2.0 (the \"License\");\n",
              "// you may not use this file except in compliance with the License.\n",
              "// You may obtain a copy of the License at\n",
              "//\n",
              "//      http://www.apache.org/licenses/LICENSE-2.0\n",
              "//\n",
              "// Unless required by applicable law or agreed to in writing, software\n",
              "// distributed under the License is distributed on an \"AS IS\" BASIS,\n",
              "// WITHOUT WARRANTIES OR CONDITIONS OF ANY KIND, either express or implied.\n",
              "// See the License for the specific language governing permissions and\n",
              "// limitations under the License.\n",
              "\n",
              "/**\n",
              " * @fileoverview Helpers for google.colab Python module.\n",
              " */\n",
              "(function(scope) {\n",
              "function span(text, styleAttributes = {}) {\n",
              "  const element = document.createElement('span');\n",
              "  element.textContent = text;\n",
              "  for (const key of Object.keys(styleAttributes)) {\n",
              "    element.style[key] = styleAttributes[key];\n",
              "  }\n",
              "  return element;\n",
              "}\n",
              "\n",
              "// Max number of bytes which will be uploaded at a time.\n",
              "const MAX_PAYLOAD_SIZE = 100 * 1024;\n",
              "\n",
              "function _uploadFiles(inputId, outputId) {\n",
              "  const steps = uploadFilesStep(inputId, outputId);\n",
              "  const outputElement = document.getElementById(outputId);\n",
              "  // Cache steps on the outputElement to make it available for the next call\n",
              "  // to uploadFilesContinue from Python.\n",
              "  outputElement.steps = steps;\n",
              "\n",
              "  return _uploadFilesContinue(outputId);\n",
              "}\n",
              "\n",
              "// This is roughly an async generator (not supported in the browser yet),\n",
              "// where there are multiple asynchronous steps and the Python side is going\n",
              "// to poll for completion of each step.\n",
              "// This uses a Promise to block the python side on completion of each step,\n",
              "// then passes the result of the previous step as the input to the next step.\n",
              "function _uploadFilesContinue(outputId) {\n",
              "  const outputElement = document.getElementById(outputId);\n",
              "  const steps = outputElement.steps;\n",
              "\n",
              "  const next = steps.next(outputElement.lastPromiseValue);\n",
              "  return Promise.resolve(next.value.promise).then((value) => {\n",
              "    // Cache the last promise value to make it available to the next\n",
              "    // step of the generator.\n",
              "    outputElement.lastPromiseValue = value;\n",
              "    return next.value.response;\n",
              "  });\n",
              "}\n",
              "\n",
              "/**\n",
              " * Generator function which is called between each async step of the upload\n",
              " * process.\n",
              " * @param {string} inputId Element ID of the input file picker element.\n",
              " * @param {string} outputId Element ID of the output display.\n",
              " * @return {!Iterable<!Object>} Iterable of next steps.\n",
              " */\n",
              "function* uploadFilesStep(inputId, outputId) {\n",
              "  const inputElement = document.getElementById(inputId);\n",
              "  inputElement.disabled = false;\n",
              "\n",
              "  const outputElement = document.getElementById(outputId);\n",
              "  outputElement.innerHTML = '';\n",
              "\n",
              "  const pickedPromise = new Promise((resolve) => {\n",
              "    inputElement.addEventListener('change', (e) => {\n",
              "      resolve(e.target.files);\n",
              "    });\n",
              "  });\n",
              "\n",
              "  const cancel = document.createElement('button');\n",
              "  inputElement.parentElement.appendChild(cancel);\n",
              "  cancel.textContent = 'Cancel upload';\n",
              "  const cancelPromise = new Promise((resolve) => {\n",
              "    cancel.onclick = () => {\n",
              "      resolve(null);\n",
              "    };\n",
              "  });\n",
              "\n",
              "  // Wait for the user to pick the files.\n",
              "  const files = yield {\n",
              "    promise: Promise.race([pickedPromise, cancelPromise]),\n",
              "    response: {\n",
              "      action: 'starting',\n",
              "    }\n",
              "  };\n",
              "\n",
              "  cancel.remove();\n",
              "\n",
              "  // Disable the input element since further picks are not allowed.\n",
              "  inputElement.disabled = true;\n",
              "\n",
              "  if (!files) {\n",
              "    return {\n",
              "      response: {\n",
              "        action: 'complete',\n",
              "      }\n",
              "    };\n",
              "  }\n",
              "\n",
              "  for (const file of files) {\n",
              "    const li = document.createElement('li');\n",
              "    li.append(span(file.name, {fontWeight: 'bold'}));\n",
              "    li.append(span(\n",
              "        `(${file.type || 'n/a'}) - ${file.size} bytes, ` +\n",
              "        `last modified: ${\n",
              "            file.lastModifiedDate ? file.lastModifiedDate.toLocaleDateString() :\n",
              "                                    'n/a'} - `));\n",
              "    const percent = span('0% done');\n",
              "    li.appendChild(percent);\n",
              "\n",
              "    outputElement.appendChild(li);\n",
              "\n",
              "    const fileDataPromise = new Promise((resolve) => {\n",
              "      const reader = new FileReader();\n",
              "      reader.onload = (e) => {\n",
              "        resolve(e.target.result);\n",
              "      };\n",
              "      reader.readAsArrayBuffer(file);\n",
              "    });\n",
              "    // Wait for the data to be ready.\n",
              "    let fileData = yield {\n",
              "      promise: fileDataPromise,\n",
              "      response: {\n",
              "        action: 'continue',\n",
              "      }\n",
              "    };\n",
              "\n",
              "    // Use a chunked sending to avoid message size limits. See b/62115660.\n",
              "    let position = 0;\n",
              "    do {\n",
              "      const length = Math.min(fileData.byteLength - position, MAX_PAYLOAD_SIZE);\n",
              "      const chunk = new Uint8Array(fileData, position, length);\n",
              "      position += length;\n",
              "\n",
              "      const base64 = btoa(String.fromCharCode.apply(null, chunk));\n",
              "      yield {\n",
              "        response: {\n",
              "          action: 'append',\n",
              "          file: file.name,\n",
              "          data: base64,\n",
              "        },\n",
              "      };\n",
              "\n",
              "      let percentDone = fileData.byteLength === 0 ?\n",
              "          100 :\n",
              "          Math.round((position / fileData.byteLength) * 100);\n",
              "      percent.textContent = `${percentDone}% done`;\n",
              "\n",
              "    } while (position < fileData.byteLength);\n",
              "  }\n",
              "\n",
              "  // All done.\n",
              "  yield {\n",
              "    response: {\n",
              "      action: 'complete',\n",
              "    }\n",
              "  };\n",
              "}\n",
              "\n",
              "scope.google = scope.google || {};\n",
              "scope.google.colab = scope.google.colab || {};\n",
              "scope.google.colab._files = {\n",
              "  _uploadFiles,\n",
              "  _uploadFilesContinue,\n",
              "};\n",
              "})(self);\n",
              "</script> "
            ]
          },
          "metadata": {}
        },
        {
          "output_type": "stream",
          "name": "stdout",
          "text": [
            "Saving Train.csv to Train.csv\n",
            "Shape of dataset: (8523, 12)\n"
          ]
        },
        {
          "output_type": "execute_result",
          "data": {
            "text/plain": [
              "  Item_Identifier  Item_Weight Item_Fat_Content  Item_Visibility  \\\n",
              "0           FDA15         9.30          Low Fat         0.016047   \n",
              "1           DRC01         5.92          Regular         0.019278   \n",
              "2           FDN15        17.50          Low Fat         0.016760   \n",
              "3           FDX07        19.20          Regular         0.000000   \n",
              "4           NCD19         8.93          Low Fat         0.000000   \n",
              "\n",
              "               Item_Type  Item_MRP Outlet_Identifier  \\\n",
              "0                  Dairy  249.8092            OUT049   \n",
              "1            Soft Drinks   48.2692            OUT018   \n",
              "2                   Meat  141.6180            OUT049   \n",
              "3  Fruits and Vegetables  182.0950            OUT010   \n",
              "4              Household   53.8614            OUT013   \n",
              "\n",
              "   Outlet_Establishment_Year Outlet_Size Outlet_Location_Type  \\\n",
              "0                       1999      Medium               Tier 1   \n",
              "1                       2009      Medium               Tier 3   \n",
              "2                       1999      Medium               Tier 1   \n",
              "3                       1998         NaN               Tier 3   \n",
              "4                       1987        High               Tier 3   \n",
              "\n",
              "         Outlet_Type  Item_Outlet_Sales  \n",
              "0  Supermarket Type1          3735.1380  \n",
              "1  Supermarket Type2           443.4228  \n",
              "2  Supermarket Type1          2097.2700  \n",
              "3      Grocery Store           732.3800  \n",
              "4  Supermarket Type1           994.7052  "
            ],
            "text/html": [
              "\n",
              "  <div id=\"df-3566bc80-7728-43b1-bacc-395774c529f3\" class=\"colab-df-container\">\n",
              "    <div>\n",
              "<style scoped>\n",
              "    .dataframe tbody tr th:only-of-type {\n",
              "        vertical-align: middle;\n",
              "    }\n",
              "\n",
              "    .dataframe tbody tr th {\n",
              "        vertical-align: top;\n",
              "    }\n",
              "\n",
              "    .dataframe thead th {\n",
              "        text-align: right;\n",
              "    }\n",
              "</style>\n",
              "<table border=\"1\" class=\"dataframe\">\n",
              "  <thead>\n",
              "    <tr style=\"text-align: right;\">\n",
              "      <th></th>\n",
              "      <th>Item_Identifier</th>\n",
              "      <th>Item_Weight</th>\n",
              "      <th>Item_Fat_Content</th>\n",
              "      <th>Item_Visibility</th>\n",
              "      <th>Item_Type</th>\n",
              "      <th>Item_MRP</th>\n",
              "      <th>Outlet_Identifier</th>\n",
              "      <th>Outlet_Establishment_Year</th>\n",
              "      <th>Outlet_Size</th>\n",
              "      <th>Outlet_Location_Type</th>\n",
              "      <th>Outlet_Type</th>\n",
              "      <th>Item_Outlet_Sales</th>\n",
              "    </tr>\n",
              "  </thead>\n",
              "  <tbody>\n",
              "    <tr>\n",
              "      <th>0</th>\n",
              "      <td>FDA15</td>\n",
              "      <td>9.30</td>\n",
              "      <td>Low Fat</td>\n",
              "      <td>0.016047</td>\n",
              "      <td>Dairy</td>\n",
              "      <td>249.8092</td>\n",
              "      <td>OUT049</td>\n",
              "      <td>1999</td>\n",
              "      <td>Medium</td>\n",
              "      <td>Tier 1</td>\n",
              "      <td>Supermarket Type1</td>\n",
              "      <td>3735.1380</td>\n",
              "    </tr>\n",
              "    <tr>\n",
              "      <th>1</th>\n",
              "      <td>DRC01</td>\n",
              "      <td>5.92</td>\n",
              "      <td>Regular</td>\n",
              "      <td>0.019278</td>\n",
              "      <td>Soft Drinks</td>\n",
              "      <td>48.2692</td>\n",
              "      <td>OUT018</td>\n",
              "      <td>2009</td>\n",
              "      <td>Medium</td>\n",
              "      <td>Tier 3</td>\n",
              "      <td>Supermarket Type2</td>\n",
              "      <td>443.4228</td>\n",
              "    </tr>\n",
              "    <tr>\n",
              "      <th>2</th>\n",
              "      <td>FDN15</td>\n",
              "      <td>17.50</td>\n",
              "      <td>Low Fat</td>\n",
              "      <td>0.016760</td>\n",
              "      <td>Meat</td>\n",
              "      <td>141.6180</td>\n",
              "      <td>OUT049</td>\n",
              "      <td>1999</td>\n",
              "      <td>Medium</td>\n",
              "      <td>Tier 1</td>\n",
              "      <td>Supermarket Type1</td>\n",
              "      <td>2097.2700</td>\n",
              "    </tr>\n",
              "    <tr>\n",
              "      <th>3</th>\n",
              "      <td>FDX07</td>\n",
              "      <td>19.20</td>\n",
              "      <td>Regular</td>\n",
              "      <td>0.000000</td>\n",
              "      <td>Fruits and Vegetables</td>\n",
              "      <td>182.0950</td>\n",
              "      <td>OUT010</td>\n",
              "      <td>1998</td>\n",
              "      <td>NaN</td>\n",
              "      <td>Tier 3</td>\n",
              "      <td>Grocery Store</td>\n",
              "      <td>732.3800</td>\n",
              "    </tr>\n",
              "    <tr>\n",
              "      <th>4</th>\n",
              "      <td>NCD19</td>\n",
              "      <td>8.93</td>\n",
              "      <td>Low Fat</td>\n",
              "      <td>0.000000</td>\n",
              "      <td>Household</td>\n",
              "      <td>53.8614</td>\n",
              "      <td>OUT013</td>\n",
              "      <td>1987</td>\n",
              "      <td>High</td>\n",
              "      <td>Tier 3</td>\n",
              "      <td>Supermarket Type1</td>\n",
              "      <td>994.7052</td>\n",
              "    </tr>\n",
              "  </tbody>\n",
              "</table>\n",
              "</div>\n",
              "    <div class=\"colab-df-buttons\">\n",
              "\n",
              "  <div class=\"colab-df-container\">\n",
              "    <button class=\"colab-df-convert\" onclick=\"convertToInteractive('df-3566bc80-7728-43b1-bacc-395774c529f3')\"\n",
              "            title=\"Convert this dataframe to an interactive table.\"\n",
              "            style=\"display:none;\">\n",
              "\n",
              "  <svg xmlns=\"http://www.w3.org/2000/svg\" height=\"24px\" viewBox=\"0 -960 960 960\">\n",
              "    <path d=\"M120-120v-720h720v720H120Zm60-500h600v-160H180v160Zm220 220h160v-160H400v160Zm0 220h160v-160H400v160ZM180-400h160v-160H180v160Zm440 0h160v-160H620v160ZM180-180h160v-160H180v160Zm440 0h160v-160H620v160Z\"/>\n",
              "  </svg>\n",
              "    </button>\n",
              "\n",
              "  <style>\n",
              "    .colab-df-container {\n",
              "      display:flex;\n",
              "      gap: 12px;\n",
              "    }\n",
              "\n",
              "    .colab-df-convert {\n",
              "      background-color: #E8F0FE;\n",
              "      border: none;\n",
              "      border-radius: 50%;\n",
              "      cursor: pointer;\n",
              "      display: none;\n",
              "      fill: #1967D2;\n",
              "      height: 32px;\n",
              "      padding: 0 0 0 0;\n",
              "      width: 32px;\n",
              "    }\n",
              "\n",
              "    .colab-df-convert:hover {\n",
              "      background-color: #E2EBFA;\n",
              "      box-shadow: 0px 1px 2px rgba(60, 64, 67, 0.3), 0px 1px 3px 1px rgba(60, 64, 67, 0.15);\n",
              "      fill: #174EA6;\n",
              "    }\n",
              "\n",
              "    .colab-df-buttons div {\n",
              "      margin-bottom: 4px;\n",
              "    }\n",
              "\n",
              "    [theme=dark] .colab-df-convert {\n",
              "      background-color: #3B4455;\n",
              "      fill: #D2E3FC;\n",
              "    }\n",
              "\n",
              "    [theme=dark] .colab-df-convert:hover {\n",
              "      background-color: #434B5C;\n",
              "      box-shadow: 0px 1px 3px 1px rgba(0, 0, 0, 0.15);\n",
              "      filter: drop-shadow(0px 1px 2px rgba(0, 0, 0, 0.3));\n",
              "      fill: #FFFFFF;\n",
              "    }\n",
              "  </style>\n",
              "\n",
              "    <script>\n",
              "      const buttonEl =\n",
              "        document.querySelector('#df-3566bc80-7728-43b1-bacc-395774c529f3 button.colab-df-convert');\n",
              "      buttonEl.style.display =\n",
              "        google.colab.kernel.accessAllowed ? 'block' : 'none';\n",
              "\n",
              "      async function convertToInteractive(key) {\n",
              "        const element = document.querySelector('#df-3566bc80-7728-43b1-bacc-395774c529f3');\n",
              "        const dataTable =\n",
              "          await google.colab.kernel.invokeFunction('convertToInteractive',\n",
              "                                                    [key], {});\n",
              "        if (!dataTable) return;\n",
              "\n",
              "        const docLinkHtml = 'Like what you see? Visit the ' +\n",
              "          '<a target=\"_blank\" href=https://colab.research.google.com/notebooks/data_table.ipynb>data table notebook</a>'\n",
              "          + ' to learn more about interactive tables.';\n",
              "        element.innerHTML = '';\n",
              "        dataTable['output_type'] = 'display_data';\n",
              "        await google.colab.output.renderOutput(dataTable, element);\n",
              "        const docLink = document.createElement('div');\n",
              "        docLink.innerHTML = docLinkHtml;\n",
              "        element.appendChild(docLink);\n",
              "      }\n",
              "    </script>\n",
              "  </div>\n",
              "\n",
              "\n",
              "    <div id=\"df-b1b5e07b-969e-420c-bce3-34814b50c440\">\n",
              "      <button class=\"colab-df-quickchart\" onclick=\"quickchart('df-b1b5e07b-969e-420c-bce3-34814b50c440')\"\n",
              "                title=\"Suggest charts\"\n",
              "                style=\"display:none;\">\n",
              "\n",
              "<svg xmlns=\"http://www.w3.org/2000/svg\" height=\"24px\"viewBox=\"0 0 24 24\"\n",
              "     width=\"24px\">\n",
              "    <g>\n",
              "        <path d=\"M19 3H5c-1.1 0-2 .9-2 2v14c0 1.1.9 2 2 2h14c1.1 0 2-.9 2-2V5c0-1.1-.9-2-2-2zM9 17H7v-7h2v7zm4 0h-2V7h2v10zm4 0h-2v-4h2v4z\"/>\n",
              "    </g>\n",
              "</svg>\n",
              "      </button>\n",
              "\n",
              "<style>\n",
              "  .colab-df-quickchart {\n",
              "      --bg-color: #E8F0FE;\n",
              "      --fill-color: #1967D2;\n",
              "      --hover-bg-color: #E2EBFA;\n",
              "      --hover-fill-color: #174EA6;\n",
              "      --disabled-fill-color: #AAA;\n",
              "      --disabled-bg-color: #DDD;\n",
              "  }\n",
              "\n",
              "  [theme=dark] .colab-df-quickchart {\n",
              "      --bg-color: #3B4455;\n",
              "      --fill-color: #D2E3FC;\n",
              "      --hover-bg-color: #434B5C;\n",
              "      --hover-fill-color: #FFFFFF;\n",
              "      --disabled-bg-color: #3B4455;\n",
              "      --disabled-fill-color: #666;\n",
              "  }\n",
              "\n",
              "  .colab-df-quickchart {\n",
              "    background-color: var(--bg-color);\n",
              "    border: none;\n",
              "    border-radius: 50%;\n",
              "    cursor: pointer;\n",
              "    display: none;\n",
              "    fill: var(--fill-color);\n",
              "    height: 32px;\n",
              "    padding: 0;\n",
              "    width: 32px;\n",
              "  }\n",
              "\n",
              "  .colab-df-quickchart:hover {\n",
              "    background-color: var(--hover-bg-color);\n",
              "    box-shadow: 0 1px 2px rgba(60, 64, 67, 0.3), 0 1px 3px 1px rgba(60, 64, 67, 0.15);\n",
              "    fill: var(--button-hover-fill-color);\n",
              "  }\n",
              "\n",
              "  .colab-df-quickchart-complete:disabled,\n",
              "  .colab-df-quickchart-complete:disabled:hover {\n",
              "    background-color: var(--disabled-bg-color);\n",
              "    fill: var(--disabled-fill-color);\n",
              "    box-shadow: none;\n",
              "  }\n",
              "\n",
              "  .colab-df-spinner {\n",
              "    border: 2px solid var(--fill-color);\n",
              "    border-color: transparent;\n",
              "    border-bottom-color: var(--fill-color);\n",
              "    animation:\n",
              "      spin 1s steps(1) infinite;\n",
              "  }\n",
              "\n",
              "  @keyframes spin {\n",
              "    0% {\n",
              "      border-color: transparent;\n",
              "      border-bottom-color: var(--fill-color);\n",
              "      border-left-color: var(--fill-color);\n",
              "    }\n",
              "    20% {\n",
              "      border-color: transparent;\n",
              "      border-left-color: var(--fill-color);\n",
              "      border-top-color: var(--fill-color);\n",
              "    }\n",
              "    30% {\n",
              "      border-color: transparent;\n",
              "      border-left-color: var(--fill-color);\n",
              "      border-top-color: var(--fill-color);\n",
              "      border-right-color: var(--fill-color);\n",
              "    }\n",
              "    40% {\n",
              "      border-color: transparent;\n",
              "      border-right-color: var(--fill-color);\n",
              "      border-top-color: var(--fill-color);\n",
              "    }\n",
              "    60% {\n",
              "      border-color: transparent;\n",
              "      border-right-color: var(--fill-color);\n",
              "    }\n",
              "    80% {\n",
              "      border-color: transparent;\n",
              "      border-right-color: var(--fill-color);\n",
              "      border-bottom-color: var(--fill-color);\n",
              "    }\n",
              "    90% {\n",
              "      border-color: transparent;\n",
              "      border-bottom-color: var(--fill-color);\n",
              "    }\n",
              "  }\n",
              "</style>\n",
              "\n",
              "      <script>\n",
              "        async function quickchart(key) {\n",
              "          const quickchartButtonEl =\n",
              "            document.querySelector('#' + key + ' button');\n",
              "          quickchartButtonEl.disabled = true;  // To prevent multiple clicks.\n",
              "          quickchartButtonEl.classList.add('colab-df-spinner');\n",
              "          try {\n",
              "            const charts = await google.colab.kernel.invokeFunction(\n",
              "                'suggestCharts', [key], {});\n",
              "          } catch (error) {\n",
              "            console.error('Error during call to suggestCharts:', error);\n",
              "          }\n",
              "          quickchartButtonEl.classList.remove('colab-df-spinner');\n",
              "          quickchartButtonEl.classList.add('colab-df-quickchart-complete');\n",
              "        }\n",
              "        (() => {\n",
              "          let quickchartButtonEl =\n",
              "            document.querySelector('#df-b1b5e07b-969e-420c-bce3-34814b50c440 button');\n",
              "          quickchartButtonEl.style.display =\n",
              "            google.colab.kernel.accessAllowed ? 'block' : 'none';\n",
              "        })();\n",
              "      </script>\n",
              "    </div>\n",
              "\n",
              "    </div>\n",
              "  </div>\n"
            ],
            "application/vnd.google.colaboratory.intrinsic+json": {
              "type": "dataframe",
              "variable_name": "df",
              "summary": "{\n  \"name\": \"df\",\n  \"rows\": 8523,\n  \"fields\": [\n    {\n      \"column\": \"Item_Identifier\",\n      \"properties\": {\n        \"dtype\": \"category\",\n        \"num_unique_values\": 1559,\n        \"samples\": [\n          \"FDY01\",\n          \"FDG05\",\n          \"NCJ29\"\n        ],\n        \"semantic_type\": \"\",\n        \"description\": \"\"\n      }\n    },\n    {\n      \"column\": \"Item_Weight\",\n      \"properties\": {\n        \"dtype\": \"number\",\n        \"std\": 4.643456499186395,\n        \"min\": 4.555,\n        \"max\": 21.35,\n        \"num_unique_values\": 415,\n        \"samples\": [\n          16.75,\n          8.695,\n          7.605\n        ],\n        \"semantic_type\": \"\",\n        \"description\": \"\"\n      }\n    },\n    {\n      \"column\": \"Item_Fat_Content\",\n      \"properties\": {\n        \"dtype\": \"category\",\n        \"num_unique_values\": 5,\n        \"samples\": [\n          \"Regular\",\n          \"reg\",\n          \"low fat\"\n        ],\n        \"semantic_type\": \"\",\n        \"description\": \"\"\n      }\n    },\n    {\n      \"column\": \"Item_Visibility\",\n      \"properties\": {\n        \"dtype\": \"number\",\n        \"std\": 0.051597822321135196,\n        \"min\": 0.0,\n        \"max\": 0.328390948,\n        \"num_unique_values\": 7880,\n        \"samples\": [\n          0.224837308,\n          0.046088273,\n          0.0204702\n        ],\n        \"semantic_type\": \"\",\n        \"description\": \"\"\n      }\n    },\n    {\n      \"column\": \"Item_Type\",\n      \"properties\": {\n        \"dtype\": \"category\",\n        \"num_unique_values\": 16,\n        \"samples\": [\n          \"Dairy\",\n          \"Soft Drinks\",\n          \"Baking Goods\"\n        ],\n        \"semantic_type\": \"\",\n        \"description\": \"\"\n      }\n    },\n    {\n      \"column\": \"Item_MRP\",\n      \"properties\": {\n        \"dtype\": \"number\",\n        \"std\": 62.27506651219039,\n        \"min\": 31.29,\n        \"max\": 266.8884,\n        \"num_unique_values\": 5938,\n        \"samples\": [\n          255.9672,\n          93.512,\n          208.3954\n        ],\n        \"semantic_type\": \"\",\n        \"description\": \"\"\n      }\n    },\n    {\n      \"column\": \"Outlet_Identifier\",\n      \"properties\": {\n        \"dtype\": \"category\",\n        \"num_unique_values\": 10,\n        \"samples\": [\n          \"OUT035\",\n          \"OUT018\",\n          \"OUT045\"\n        ],\n        \"semantic_type\": \"\",\n        \"description\": \"\"\n      }\n    },\n    {\n      \"column\": \"Outlet_Establishment_Year\",\n      \"properties\": {\n        \"dtype\": \"number\",\n        \"std\": 8,\n        \"min\": 1985,\n        \"max\": 2009,\n        \"num_unique_values\": 9,\n        \"samples\": [\n          1997,\n          2009,\n          2002\n        ],\n        \"semantic_type\": \"\",\n        \"description\": \"\"\n      }\n    },\n    {\n      \"column\": \"Outlet_Size\",\n      \"properties\": {\n        \"dtype\": \"category\",\n        \"num_unique_values\": 3,\n        \"samples\": [\n          \"Medium\",\n          \"High\",\n          \"Small\"\n        ],\n        \"semantic_type\": \"\",\n        \"description\": \"\"\n      }\n    },\n    {\n      \"column\": \"Outlet_Location_Type\",\n      \"properties\": {\n        \"dtype\": \"category\",\n        \"num_unique_values\": 3,\n        \"samples\": [\n          \"Tier 1\",\n          \"Tier 3\",\n          \"Tier 2\"\n        ],\n        \"semantic_type\": \"\",\n        \"description\": \"\"\n      }\n    },\n    {\n      \"column\": \"Outlet_Type\",\n      \"properties\": {\n        \"dtype\": \"category\",\n        \"num_unique_values\": 4,\n        \"samples\": [\n          \"Supermarket Type2\",\n          \"Supermarket Type3\",\n          \"Supermarket Type1\"\n        ],\n        \"semantic_type\": \"\",\n        \"description\": \"\"\n      }\n    },\n    {\n      \"column\": \"Item_Outlet_Sales\",\n      \"properties\": {\n        \"dtype\": \"number\",\n        \"std\": 1706.499615733832,\n        \"min\": 33.29,\n        \"max\": 13086.9648,\n        \"num_unique_values\": 3493,\n        \"samples\": [\n          5466.8838,\n          8417.7094,\n          5888.3352\n        ],\n        \"semantic_type\": \"\",\n        \"description\": \"\"\n      }\n    }\n  ]\n}"
            }
          },
          "metadata": {},
          "execution_count": 2
        }
      ]
    },
    {
      "cell_type": "markdown",
      "source": [
        "## 3. Dataset Overview and Missing Value Analysis\n",
        "\n",
        "Performing initial dataset inspection by:\n",
        "- Displaying general information and data types\n",
        "- Identifying missing values in each column\n",
        "- Viewing summary statistics of numerical features\n",
        "- Analyzing value distributions for all key categorical columns\n"
      ],
      "metadata": {
        "id": "2e70F-DhxUsf"
      }
    },
    {
      "cell_type": "code",
      "source": [
        "# Display dataset info\n",
        "print(\"Dataset Info:\")\n",
        "print(df.info())\n",
        "\n",
        "# Check missing values\n",
        "print(\"\\nMissing values per column:\")\n",
        "print(df.isnull().sum())\n",
        "\n",
        "# Describe numerical columns\n",
        "print(\"\\nSummary statistics:\")\n",
        "print(df.describe())\n",
        "\n",
        "# Value counts for categorical features\n",
        "categorical_cols = ['Item_Fat_Content', 'Item_Type', 'Outlet_Identifier',\n",
        "                    'Outlet_Size', 'Outlet_Location_Type', 'Outlet_Type']\n",
        "\n",
        "for col in categorical_cols:\n",
        "    print(f\"\\nValue counts for {col}:\")\n",
        "    print(df[col].value_counts())\n"
      ],
      "metadata": {
        "colab": {
          "base_uri": "https://localhost:8080/"
        },
        "id": "EgfGQ1NQwi_2",
        "outputId": "7c68afbb-58d7-4344-b5e9-1c581fceb73c"
      },
      "execution_count": null,
      "outputs": [
        {
          "output_type": "stream",
          "name": "stdout",
          "text": [
            "Dataset Info:\n",
            "<class 'pandas.core.frame.DataFrame'>\n",
            "RangeIndex: 8523 entries, 0 to 8522\n",
            "Data columns (total 12 columns):\n",
            " #   Column                     Non-Null Count  Dtype  \n",
            "---  ------                     --------------  -----  \n",
            " 0   Item_Identifier            8523 non-null   object \n",
            " 1   Item_Weight                7060 non-null   float64\n",
            " 2   Item_Fat_Content           8523 non-null   object \n",
            " 3   Item_Visibility            8523 non-null   float64\n",
            " 4   Item_Type                  8523 non-null   object \n",
            " 5   Item_MRP                   8523 non-null   float64\n",
            " 6   Outlet_Identifier          8523 non-null   object \n",
            " 7   Outlet_Establishment_Year  8523 non-null   int64  \n",
            " 8   Outlet_Size                6113 non-null   object \n",
            " 9   Outlet_Location_Type       8523 non-null   object \n",
            " 10  Outlet_Type                8523 non-null   object \n",
            " 11  Item_Outlet_Sales          8523 non-null   float64\n",
            "dtypes: float64(4), int64(1), object(7)\n",
            "memory usage: 799.2+ KB\n",
            "None\n",
            "\n",
            "Missing values per column:\n",
            "Item_Identifier                 0\n",
            "Item_Weight                  1463\n",
            "Item_Fat_Content                0\n",
            "Item_Visibility                 0\n",
            "Item_Type                       0\n",
            "Item_MRP                        0\n",
            "Outlet_Identifier               0\n",
            "Outlet_Establishment_Year       0\n",
            "Outlet_Size                  2410\n",
            "Outlet_Location_Type            0\n",
            "Outlet_Type                     0\n",
            "Item_Outlet_Sales               0\n",
            "dtype: int64\n",
            "\n",
            "Summary statistics:\n",
            "       Item_Weight  Item_Visibility     Item_MRP  Outlet_Establishment_Year  \\\n",
            "count  7060.000000      8523.000000  8523.000000                8523.000000   \n",
            "mean     12.857645         0.066132   140.992782                1997.831867   \n",
            "std       4.643456         0.051598    62.275067                   8.371760   \n",
            "min       4.555000         0.000000    31.290000                1985.000000   \n",
            "25%       8.773750         0.026989    93.826500                1987.000000   \n",
            "50%      12.600000         0.053931   143.012800                1999.000000   \n",
            "75%      16.850000         0.094585   185.643700                2004.000000   \n",
            "max      21.350000         0.328391   266.888400                2009.000000   \n",
            "\n",
            "       Item_Outlet_Sales  \n",
            "count        8523.000000  \n",
            "mean         2181.288914  \n",
            "std          1706.499616  \n",
            "min            33.290000  \n",
            "25%           834.247400  \n",
            "50%          1794.331000  \n",
            "75%          3101.296400  \n",
            "max         13086.964800  \n",
            "\n",
            "Value counts for Item_Fat_Content:\n",
            "Item_Fat_Content\n",
            "Low Fat    5089\n",
            "Regular    2889\n",
            "LF          316\n",
            "reg         117\n",
            "low fat     112\n",
            "Name: count, dtype: int64\n",
            "\n",
            "Value counts for Item_Type:\n",
            "Item_Type\n",
            "Fruits and Vegetables    1232\n",
            "Snack Foods              1200\n",
            "Household                 910\n",
            "Frozen Foods              856\n",
            "Dairy                     682\n",
            "Canned                    649\n",
            "Baking Goods              648\n",
            "Health and Hygiene        520\n",
            "Soft Drinks               445\n",
            "Meat                      425\n",
            "Breads                    251\n",
            "Hard Drinks               214\n",
            "Others                    169\n",
            "Starchy Foods             148\n",
            "Breakfast                 110\n",
            "Seafood                    64\n",
            "Name: count, dtype: int64\n",
            "\n",
            "Value counts for Outlet_Identifier:\n",
            "Outlet_Identifier\n",
            "OUT027    935\n",
            "OUT013    932\n",
            "OUT035    930\n",
            "OUT049    930\n",
            "OUT046    930\n",
            "OUT045    929\n",
            "OUT018    928\n",
            "OUT017    926\n",
            "OUT010    555\n",
            "OUT019    528\n",
            "Name: count, dtype: int64\n",
            "\n",
            "Value counts for Outlet_Size:\n",
            "Outlet_Size\n",
            "Medium    2793\n",
            "Small     2388\n",
            "High       932\n",
            "Name: count, dtype: int64\n",
            "\n",
            "Value counts for Outlet_Location_Type:\n",
            "Outlet_Location_Type\n",
            "Tier 3    3350\n",
            "Tier 2    2785\n",
            "Tier 1    2388\n",
            "Name: count, dtype: int64\n",
            "\n",
            "Value counts for Outlet_Type:\n",
            "Outlet_Type\n",
            "Supermarket Type1    5577\n",
            "Grocery Store        1083\n",
            "Supermarket Type3     935\n",
            "Supermarket Type2     928\n",
            "Name: count, dtype: int64\n"
          ]
        }
      ]
    },
    {
      "cell_type": "markdown",
      "source": [
        "## 4. Exploratory Data Analysis (EDA)\n",
        "\n",
        "Visualizing the dataset to understand distributions and relationships:\n",
        "\n",
        "- **Distribution of Sales**: Histogram of `Item_Outlet_Sales` to observe skewness\n",
        "- **Sales by Outlet Type**: Boxplot showing how sales vary across different outlet types\n",
        "- **Average Sales by Item Type**: Bar plot showing mean sales per item category\n",
        "- **Outlet Counts**: Count plots for `Outlet_Type` and `Outlet_Size` to view frequency\n",
        "- **Correlation Heatmap**: Visual correlation matrix for numerical features to detect multicollinearity\n"
      ],
      "metadata": {
        "id": "wONmeW5Dx9UF"
      }
    },
    {
      "cell_type": "code",
      "source": [
        "# Distribution of Item_Outlet_Sales\n",
        "plt.figure(figsize=(8, 4))\n",
        "sns.histplot(df['Item_Outlet_Sales'], bins=30, kde=True)\n",
        "plt.title(\"Distribution of Item_Outlet_Sales\")\n",
        "plt.xlabel(\"Sales\")\n",
        "plt.ylabel(\"Frequency\")\n",
        "plt.tight_layout()\n",
        "plt.show(); print()\n",
        "\n",
        "# Sales by Outlet Type\n",
        "plt.figure(figsize=(10, 5))\n",
        "sns.boxplot(data=df, x='Outlet_Type', y='Item_Outlet_Sales')\n",
        "plt.title(\"Sales by Outlet Type\")\n",
        "plt.xticks(rotation=45)\n",
        "plt.tight_layout()\n",
        "plt.show(); print()\n",
        "\n",
        "# Average Sales by Item Type\n",
        "plt.figure(figsize=(14, 6))\n",
        "sns.barplot(data=df, x='Item_Type', y='Item_Outlet_Sales', estimator=np.mean, ci=None)\n",
        "plt.xticks(rotation=90)\n",
        "plt.title(\"Average Sales by Item Type\")\n",
        "plt.ylabel(\"Mean Sales\")\n",
        "plt.tight_layout()\n",
        "plt.show(); print()\n",
        "\n",
        "# Count plot of Outlet_Type\n",
        "plt.figure(figsize=(6, 4))\n",
        "sns.countplot(data=df, x='Outlet_Type')\n",
        "plt.title(\"Count of Outlet Types\")\n",
        "plt.xticks(rotation=45)\n",
        "plt.tight_layout()\n",
        "plt.show(); print()\n",
        "\n",
        "# Count plot of Outlet_Size\n",
        "plt.figure(figsize=(6, 4))\n",
        "sns.countplot(data=df, x='Outlet_Size')\n",
        "plt.title(\"Count of Outlet Sizes\")\n",
        "plt.tight_layout()\n",
        "plt.show(); print()\n",
        "\n",
        "# Correlation Heatmap\n",
        "plt.figure(figsize=(10, 6))\n",
        "corr = df.select_dtypes(include=[np.number]).corr()\n",
        "sns.heatmap(corr, annot=True, cmap='coolwarm', fmt=\".2f\")\n",
        "plt.title(\"Correlation Heatmap\")\n",
        "plt.tight_layout()\n",
        "plt.show(); print()\n"
      ],
      "metadata": {
        "colab": {
          "base_uri": "https://localhost:8080/",
          "height": 1000
        },
        "id": "JIJ2IQMzxEDd",
        "outputId": "42652c34-0832-4830-879b-099be0156032"
      },
      "execution_count": null,
      "outputs": [
        {
          "output_type": "display_data",
          "data": {
            "text/plain": [
              "<Figure size 800x400 with 1 Axes>"
            ],
            "image/png": "[encoded data removed]"
          },
          "metadata": {}
        },
        {
          "output_type": "stream",
          "name": "stdout",
          "text": [
            "\n"
          ]
        },
        {
          "output_type": "display_data",
          "data": {
            "text/plain": [
              "<Figure size 1000x500 with 1 Axes>"
            ],
            "image/png": "[encoded data removed]"
          },
          "metadata": {}
        },
        {
          "output_type": "stream",
          "name": "stdout",
          "text": [
            "\n"
          ]
        },
        {
          "output_type": "display_data",
          "data": {
            "text/plain": [
              "<Figure size 1400x600 with 1 Axes>"
            ],
            "image/png": "[encoded data removed]"
          },
          "metadata": {}
        },
        {
          "output_type": "stream",
          "name": "stdout",
          "text": [
            "\n"
          ]
        },
        {
          "output_type": "display_data",
          "data": {
            "text/plain": [
              "<Figure size 600x400 with 1 Axes>"
            ],
            "image/png": "[encoded data removed]"
          },
          "metadata": {}
        },
        {
          "output_type": "stream",
          "name": "stdout",
          "text": [
            "\n"
          ]
        },
        {
          "output_type": "display_data",
          "data": {
            "text/plain": [
              "<Figure size 600x400 with 1 Axes>"
            ],
            "image/png": "[encoded data removed]"
          },
          "metadata": {}
        },
        {
          "output_type": "stream",
          "name": "stdout",
          "text": [
            "\n"
          ]
        },
        {
          "output_type": "display_data",
          "data": {
            "text/plain": [
              "<Figure size 1000x600 with 2 Axes>"
            ],
            "image/png": "[encoded data removed]"
          },
          "metadata": {}
        },
        {
          "output_type": "stream",
          "name": "stdout",
          "text": [
            "\n"
          ]
        }
      ]
    },
    {
      "cell_type": "markdown",
      "source": [
        "## 5. Data Cleaning and Custom Preprocessing Pipeline\n",
        "\n",
        "A custom `DataProcessor` class is defined using `BaseEstimator` and `TransformerMixin` to handle the complete preprocessing pipeline.\n",
        "\n",
        "Key preprocessing steps include:\n",
        "- Imputing missing values for `Item_Weight` and `Outlet_Size`\n",
        "- Replacing zero `Item_Visibility` with the median\n",
        "- Normalizing and one-hot encoding `Item_Fat_Content`\n",
        "- Outlier capping using z-score thresholds\n",
        "- Applying Yeo-Johnson transformation and feature scaling\n",
        "- Encoding categorical features using One-Hot and Ordinal Encoding\n",
        "- Leave-One-Out (LOO) encoding for high-cardinality features\n",
        "- Feature engineering:\n",
        "  - `Outlet_Age`\n",
        "  - `Visibility_Percentage`\n",
        "  - `Price_Per_Weight`\n",
        "  - `Visibility_to_MRP_Ratio`\n",
        "  - `Discount_Potential`\n",
        "- Removing unnecessary columns like `Item_Identifier` and `Outlet_Establishment_Year`\n",
        "\n",
        "This ensures that the dataset is well-cleaned and fully prepared for machine learning models.\n"
      ],
      "metadata": {
        "id": "-ioDLQyGyp_9"
      }
    },
    {
      "cell_type": "code",
      "source": [
        "from sklearn.base import BaseEstimator, TransformerMixin\n",
        "\n",
        "class DataProcessor(BaseEstimator, TransformerMixin):\n",
        "    def __init__(self):\n",
        "        self.scaler = MinMaxScaler()\n",
        "        self.standard_scaler = StandardScaler()\n",
        "        self.yeo_johnson = PowerTransformer(method='yeo-johnson', standardize=True)\n",
        "        self.one_hot_encoder = None\n",
        "        self.ordinal_encoder = None\n",
        "        self.loo_encodings = {}\n",
        "        self.median_visibility = None\n",
        "        self.item_weight_medians = {}\n",
        "        self.outlet_size_modes = {}\n",
        "\n",
        "    def fit(self, X, y=None):\n",
        "        # Median Item_Weight per Item_Type\n",
        "        self.item_weight_medians = X.groupby('Item_Type')['Item_Weight'].median().to_dict()\n",
        "\n",
        "        # Mode Outlet_Size per Outlet_Type\n",
        "        self.outlet_size_modes = X.groupby('Outlet_Type')['Outlet_Size'].agg(\n",
        "            lambda x: x.mode().iloc[0] if not x.mode().empty else 'Unknown'\n",
        "        ).to_dict()\n",
        "\n",
        "        # Replace zero visibility with median\n",
        "        non_zero_visibility = X.loc[X['Item_Visibility'] > 0, 'Item_Visibility']\n",
        "        self.median_visibility = non_zero_visibility.median()\n",
        "\n",
        "        # Fit scalers\n",
        "        self.scaler.fit(X[['Item_MRP']])\n",
        "        self.standard_scaler.fit(X[['Item_Weight', 'Item_Visibility']])\n",
        "        self.yeo_johnson.fit(X[['Item_Weight', 'Item_Visibility', 'Item_MRP']])\n",
        "\n",
        "        # One-hot encoder\n",
        "        self.one_hot_encoder = OneHotEncoder(sparse_output=False, handle_unknown='ignore')\n",
        "        self.one_hot_encoder.fit(X[['Outlet_Type']])\n",
        "\n",
        "        # Ordinal encoder\n",
        "        self.ordinal_encoder = OrdinalEncoder(categories=[\n",
        "            ['Small', 'Medium', 'High'],\n",
        "            ['Tier 3', 'Tier 2', 'Tier 1']\n",
        "        ], handle_unknown='use_encoded_value', unknown_value=-1)\n",
        "        self.ordinal_encoder.fit(X[['Outlet_Size', 'Outlet_Location_Type']])\n",
        "\n",
        "        # LOO encoding for high-cardinality features\n",
        "        if y is not None:\n",
        "            y = pd.Series(y, index=X.index)\n",
        "            high_cardinality_features = ['Item_Identifier', 'Outlet_Identifier']\n",
        "            for feature in high_cardinality_features:\n",
        "                loo_encoding = X[feature].map(lambda x: y[X[feature] == x].mean()).to_dict()\n",
        "                self.loo_encodings[feature] = loo_encoding\n",
        "\n",
        "        return self\n",
        "\n",
        "    def transform(self, X, y=None):\n",
        "        X = X.copy()\n",
        "\n",
        "        # Check essential columns\n",
        "        required_columns = ['Item_Type', 'Item_Weight', 'Item_Visibility', 'Item_MRP',\n",
        "                            'Outlet_Type', 'Outlet_Location_Type', 'Outlet_Size']\n",
        "        for col in required_columns:\n",
        "            if col not in X.columns:\n",
        "                raise KeyError(f\"Missing required column: {col}\")\n",
        "\n",
        "        # Impute missing values\n",
        "        X['Item_Weight'] = X['Item_Weight'].fillna(X['Item_Type'].map(self.item_weight_medians))\n",
        "        X['Outlet_Size'] = X['Outlet_Size'].fillna(X['Outlet_Type'].map(self.outlet_size_modes))\n",
        "        X['Item_Visibility'] = X['Item_Visibility'].replace(0, self.median_visibility)\n",
        "\n",
        "        # Normalize Item_Fat_Content\n",
        "        X['Item_Fat_Content'] = X['Item_Fat_Content'].str.strip().str.lower()\n",
        "        fat_map = {'low fat': 'Low Fat', 'lf': 'Low Fat', 'reg': 'Regular', 'regular': 'Regular'}\n",
        "        X['Item_Fat_Content'] = X['Item_Fat_Content'].map(fat_map)\n",
        "\n",
        "        # One-hot encode Fat_Content\n",
        "        fat_ohe = pd.get_dummies(X['Item_Fat_Content'], prefix='Item_Fat_Content')\n",
        "        X = pd.concat([X.drop(columns=['Item_Fat_Content']), fat_ohe], axis=1)\n",
        "\n",
        "        # Cap outliers\n",
        "        for col in ['Item_Weight', 'Item_Visibility', 'Item_MRP']:\n",
        "            mean, std = X[col].mean(), X[col].std()\n",
        "            upper = mean + 3 * std\n",
        "            lower = mean - 3 * std\n",
        "            X[col] = np.clip(X[col], lower, upper)\n",
        "\n",
        "        # Apply transformations\n",
        "        skewed_cols = ['Item_Weight', 'Item_Visibility', 'Item_MRP']\n",
        "        X[skewed_cols] = self.yeo_johnson.transform(X[skewed_cols])\n",
        "        X[['Item_Weight', 'Item_Visibility']] = self.standard_scaler.transform(X[['Item_Weight', 'Item_Visibility']])\n",
        "        X[['Item_MRP']] = self.scaler.transform(X[['Item_MRP']])\n",
        "\n",
        "        # One-hot encode Outlet_Type\n",
        "        outlet_type_encoded = self.one_hot_encoder.transform(X[['Outlet_Type']])\n",
        "        outlet_type_df = pd.DataFrame(outlet_type_encoded, columns=self.one_hot_encoder.get_feature_names_out(['Outlet_Type']), index=X.index)\n",
        "        X = pd.concat([X.drop(columns=['Outlet_Type']), outlet_type_df], axis=1)\n",
        "\n",
        "        # Ordinal encode Outlet_Size and Location\n",
        "        X[['Outlet_Size', 'Outlet_Location_Type']] = self.ordinal_encoder.transform(\n",
        "            X[['Outlet_Size', 'Outlet_Location_Type']]\n",
        "        )\n",
        "\n",
        "        # One-hot encode Item_Type\n",
        "        item_type_ohe = pd.get_dummies(X['Item_Type'], prefix='Item_Type')\n",
        "        X = pd.concat([X.drop(columns=['Item_Type']), item_type_ohe], axis=1)\n",
        "\n",
        "        # LOO encoding\n",
        "        for feature in ['Outlet_Identifier']:\n",
        "            if feature in X.columns:\n",
        "                X[f\"{feature}_LOO\"] = X[feature].map(self.loo_encodings.get(feature, {})).fillna(0.0)\n",
        "        X.drop(columns=['Outlet_Identifier'], inplace=True)\n",
        "\n",
        "        # Feature engineering\n",
        "        X['Outlet_Age'] = 2024 - X['Outlet_Establishment_Year']\n",
        "        X['Visibility_Percentage'] = X['Item_Visibility'] / (X['Item_Visibility'].sum() + 1e-5)\n",
        "        X['Price_Per_Weight'] = X['Item_MRP'] / (X['Item_Weight'] + 1e-5)\n",
        "        X['Visibility_to_MRP_Ratio'] = X['Item_Visibility'] / (X['Item_MRP'] + 1e-5)\n",
        "        X['Discount_Potential'] = X['Item_MRP'] / (X['Item_Visibility'] + 1e-5)\n",
        "\n",
        "        # Final cleanup\n",
        "        X.columns = X.columns.str.replace(' ', '_')\n",
        "        X.drop(columns=['Item_Identifier', 'Outlet_Establishment_Year'], inplace=True)\n",
        "\n",
        "        return X\n",
        "\n",
        "    def fit_transform(self, X, y=None):\n",
        "        self.fit(X, y)\n",
        "        return self.transform(X, y)\n"
      ],
      "metadata": {
        "id": "HX1rwIjHxEEY"
      },
      "execution_count": null,
      "outputs": []
    },
    {
      "cell_type": "markdown",
      "source": [
        "## 6. Splitting Data and Applying Custom Preprocessing\n",
        "\n",
        "- Define the target variable (`Item_Outlet_Sales`)\n",
        "- Split the dataset into training and testing sets\n",
        "- Apply the custom `DataProcessor` transformer to clean, encode, scale, and engineer features\n",
        "- Ensure no missing values remain after preprocessing\n"
      ],
      "metadata": {
        "id": "wVF2tSgaxE8j"
      }
    },
    {
      "cell_type": "code",
      "source": [
        "# Define target and split\n",
        "target_variable = 'Item_Outlet_Sales'\n",
        "X = df.drop(columns=[target_variable])\n",
        "y = df[target_variable]\n",
        "\n",
        "# Train-test split\n",
        "X_train, X_test, y_train, y_test = train_test_split(\n",
        "    X, y, test_size=0.2, random_state=42\n",
        ")\n",
        "\n",
        "# Initialize and fit processor\n",
        "processor = DataProcessor()\n",
        "X_train = processor.fit_transform(X_train, y_train)\n",
        "X_test = processor.transform(X_test)\n",
        "\n",
        "# Confirm no missing values\n",
        "print(\"Missing values in training set:\")\n",
        "print(X_train.isnull().sum().sum())\n",
        "\n",
        "print(\"\\nMissing values in testing set:\")\n",
        "print(X_test.isnull().sum().sum())\n",
        "\n",
        "print(\"\\nTraining feature shape:\", X_train.shape)\n",
        "print(\"Testing feature shape:\", X_test.shape)\n",
        "print(X_train.columns.tolist())\n"
      ],
      "metadata": {
        "colab": {
          "base_uri": "https://localhost:8080/"
        },
        "id": "Xx184RFN1DFY",
        "outputId": "fee26785-9fd6-415f-ad96-589b6271ed6f"
      },
      "execution_count": null,
      "outputs": [
        {
          "output_type": "stream",
          "name": "stdout",
          "text": [
            "Missing values in training set:\n",
            "0\n",
            "\n",
            "Missing values in testing set:\n",
            "0\n",
            "\n",
            "Training feature shape: (6818, 33)\n",
            "Testing feature shape: (1705, 33)\n",
            "['Item_Weight', 'Item_Visibility', 'Item_MRP', 'Outlet_Size', 'Outlet_Location_Type', 'Item_Fat_Content_Low_Fat', 'Item_Fat_Content_Regular', 'Outlet_Type_Grocery_Store', 'Outlet_Type_Supermarket_Type1', 'Outlet_Type_Supermarket_Type2', 'Outlet_Type_Supermarket_Type3', 'Item_Type_Baking_Goods', 'Item_Type_Breads', 'Item_Type_Breakfast', 'Item_Type_Canned', 'Item_Type_Dairy', 'Item_Type_Frozen_Foods', 'Item_Type_Fruits_and_Vegetables', 'Item_Type_Hard_Drinks', 'Item_Type_Health_and_Hygiene', 'Item_Type_Household', 'Item_Type_Meat', 'Item_Type_Others', 'Item_Type_Seafood', 'Item_Type_Snack_Foods', 'Item_Type_Soft_Drinks', 'Item_Type_Starchy_Foods', 'Outlet_Identifier_LOO', 'Outlet_Age', 'Visibility_Percentage', 'Price_Per_Weight', 'Visibility_to_MRP_Ratio', 'Discount_Potential']\n"
          ]
        }
      ]
    },
    {
      "cell_type": "markdown",
      "source": [
        "## 7. Training and Evaluating Multiple Regression Models\n",
        "\n",
        "Training and evaluating five different regression models:\n",
        "\n",
        "- Linear Regression\n",
        "- Random Forest Regressor\n",
        "- Gradient Boosting Regressor\n",
        "- XGBoost Regressor\n",
        "- MLP Regressor (Neural Network)\n",
        "\n",
        "Each model is trained on the processed training set and evaluated using R² score on both training and test data.\n",
        "Results are stored in a DataFrame for comparison.\n"
      ],
      "metadata": {
        "id": "NOepD-wlycnY"
      }
    },
    {
      "cell_type": "code",
      "source": [
        "# Define models\n",
        "models = {\n",
        "    'Linear Regression': LinearRegression(),\n",
        "    'Random Forest': RandomForestRegressor(n_estimators=200, max_depth=10, random_state=42),\n",
        "    'Gradient Boosting': GradientBoostingRegressor(n_estimators=200, learning_rate=0.1, random_state=42),\n",
        "    'XGBoost': XGBRegressor(n_estimators=200, learning_rate=0.1, random_state=42, verbosity=0),\n",
        "    'MLP Regressor': MLPRegressor(hidden_layer_sizes=(100, 50), activation='relu', solver='adam',\n",
        "                                   max_iter=1000, random_state=42)\n",
        "}\n",
        "\n",
        "# Store results\n",
        "r2_scores = {'Model': [], 'Training R²': [], 'Testing R²': []}\n",
        "\n",
        "# Train and evaluate\n",
        "for model_name, model in models.items():\n",
        "    print(f\"Training {model_name}...\")\n",
        "\n",
        "    # Use .to_numpy() for XGBoost\n",
        "    if model_name == 'XGBoost':\n",
        "        X_train_data, X_test_data = X_train.to_numpy(), X_test.to_numpy()\n",
        "    else:\n",
        "        X_train_data, X_test_data = X_train, X_test\n",
        "\n",
        "    model.fit(X_train_data, y_train)\n",
        "\n",
        "    train_preds = model.predict(X_train_data)\n",
        "    test_preds = model.predict(X_test_data)\n",
        "\n",
        "    r2_scores['Model'].append(model_name)\n",
        "    r2_scores['Training R²'].append(r2_score(y_train, train_preds))\n",
        "    r2_scores['Testing R²'].append(r2_score(y_test, test_preds))\n",
        "\n",
        "# Show scores\n",
        "r2_scores_df = pd.DataFrame(r2_scores)\n",
        "print(\"\\nModel Performance (R² Scores):\")\n",
        "print(r2_scores_df)\n"
      ],
      "metadata": {
        "colab": {
          "base_uri": "https://localhost:8080/"
        },
        "id": "yJ0pbAvn1xpO",
        "outputId": "131491d3-d699-4a75-8d8a-979a572b167a"
      },
      "execution_count": null,
      "outputs": [
        {
          "output_type": "stream",
          "name": "stdout",
          "text": [
            "Training Linear Regression...\n",
            "Training Random Forest...\n",
            "Training Gradient Boosting...\n",
            "Training XGBoost...\n",
            "Training MLP Regressor...\n",
            "\n",
            "Model Performance (R² Scores):\n",
            "               Model  Training R²  Testing R²\n",
            "0  Linear Regression     0.561554    0.577614\n",
            "1      Random Forest     0.716076    0.604206\n",
            "2  Gradient Boosting     0.667265    0.601874\n",
            "3            XGBoost     0.811301    0.569124\n",
            "4      MLP Regressor     0.521022    0.510415\n"
          ]
        }
      ]
    },
    {
      "cell_type": "markdown",
      "source": [
        "## 8. Visual Comparison of Model Performance\n",
        "\n",
        "Using a grouped bar chart to compare R² scores of different models on:\n",
        "\n",
        "- Training dataset\n",
        "- Testing dataset\n",
        "\n",
        "This visualization helps to:\n",
        "- Spot overfitting (high training R², low testing R²)\n",
        "- Detect underfitting (low R² on both)\n",
        "- Select the most generalizable model for deployment\n"
      ],
      "metadata": {
        "id": "xbhC5qfMzEbF"
      }
    },
    {
      "cell_type": "code",
      "source": [
        "# Set plot style\n",
        "plt.figure(figsize=(10, 6))\n",
        "r2_plot = r2_scores_df.melt(id_vars='Model', var_name='Dataset', value_name='R2 Score')\n",
        "\n",
        "sns.barplot(data=r2_plot, x='Model', y='R2 Score', hue='Dataset', palette='Set2')\n",
        "plt.title('Model Comparison: Training vs Testing R² Scores')\n",
        "plt.ylim(0, 1)\n",
        "plt.xticks(rotation=45)\n",
        "plt.tight_layout()\n",
        "plt.show()\n"
      ],
      "metadata": {
        "colab": {
          "base_uri": "https://localhost:8080/",
          "height": 601
        },
        "id": "srK2Zgeo2juX",
        "outputId": "8490a8f0-1a48-45e7-810c-3876156a4b3f"
      },
      "execution_count": null,
      "outputs": [
        {
          "output_type": "display_data",
          "data": {
            "text/plain": [
              "<Figure size 1000x600 with 1 Axes>"
            ],
            "image/png": "[encoded data removed]"
          },
          "metadata": {}
        }
      ]
    },
    {
      "cell_type": "markdown",
      "source": [
        "## 9. Hyperparameter Tuning for XGBoost\n",
        "\n",
        "To improve model performance and reduce underfitting or overfitting, we tune the XGBoost model using `RandomizedSearchCV` with a defined parameter grid.\n",
        "\n",
        "- Tried 50 random combinations across:\n",
        "  - Number of estimators\n",
        "  - Learning rate\n",
        "  - Maximum tree depth\n",
        "  - Subsampling ratios\n",
        "  - Regularization parameters\n",
        "\n",
        "Evaluation is done using 5-fold cross-validation and R² score as the metric.\n",
        "\n",
        "After tuning:\n",
        "- The best model is selected\n",
        "- Performance is measured again on both training and testing datasets\n"
      ],
      "metadata": {
        "id": "y8_-OWvqzYVK"
      }
    },
    {
      "cell_type": "code",
      "source": [
        "from sklearn.model_selection import RandomizedSearchCV\n",
        "\n",
        "# Define the parameter grid for tuning\n",
        "xgb_param_grid = {\n",
        "    'n_estimators': [100, 200, 300, 500],\n",
        "    'learning_rate': [0.01, 0.05, 0.1, 0.2],\n",
        "    'max_depth': [3, 4, 5, 6],\n",
        "    'subsample': [0.8, 1.0],\n",
        "    'colsample_bytree': [0.8, 1.0],\n",
        "    'gamma': [0, 1, 5],\n",
        "    'reg_alpha': [0, 1, 5],\n",
        "    'reg_lambda': [1, 5, 10],\n",
        "}\n",
        "\n",
        "# Initialize base model\n",
        "xgb = XGBRegressor(random_state=42, verbosity=0)\n",
        "\n",
        "# Perform randomized search\n",
        "xgb_search = RandomizedSearchCV(\n",
        "    estimator=xgb,\n",
        "    param_distributions=xgb_param_grid,\n",
        "    n_iter=50,  # number of combinations to try\n",
        "    scoring='r2',\n",
        "    cv=5,\n",
        "    random_state=42,\n",
        "    n_jobs=-1,\n",
        "    verbose=2\n",
        ")\n",
        "\n",
        "print(\"Tuning XGBoost using RandomizedSearchCV...\")\n",
        "xgb_search.fit(X_train, y_train)\n",
        "\n",
        "# Best model from tuning\n",
        "best_xgb = xgb_search.best_estimator_\n",
        "\n",
        "# Print best parameters and cross-validated score\n",
        "print(\"Best Parameters for XGBoost:\")\n",
        "print(xgb_search.best_params_)\n",
        "\n",
        "print(f\"\\nBest CV R² Score: {xgb_search.best_score_:.4f}\")\n",
        "\n",
        "# Evaluate the tuned model on train and test sets\n",
        "xgb_train_r2 = best_xgb.score(X_train, y_train)\n",
        "xgb_test_r2 = best_xgb.score(X_test, y_test)\n",
        "\n",
        "print(f\"\\nXGBoost Training R²: {xgb_train_r2:.4f}\")\n",
        "print(f\"XGBoost Testing R²: {xgb_test_r2:.4f}\")\n"
      ],
      "metadata": {
        "colab": {
          "base_uri": "https://localhost:8080/"
        },
        "id": "kZwoxNWI4WlP",
        "outputId": "4f053bfc-a5c4-43f5-e0ce-8656f387d839"
      },
      "execution_count": null,
      "outputs": [
        {
          "output_type": "stream",
          "name": "stdout",
          "text": [
            "Tuning XGBoost using RandomizedSearchCV...\n",
            "Fitting 5 folds for each of 50 candidates, totalling 250 fits\n",
            "Best Parameters for XGBoost:\n",
            "{'subsample': 1.0, 'reg_lambda': 5, 'reg_alpha': 0, 'n_estimators': 500, 'max_depth': 4, 'learning_rate': 0.01, 'gamma': 5, 'colsample_bytree': 0.8}\n",
            "\n",
            "Best CV R² Score: 0.5969\n",
            "\n",
            "XGBoost Training R²: 0.6256\n",
            "XGBoost Testing R²: 0.6161\n"
          ]
        }
      ]
    },
    {
      "cell_type": "markdown",
      "source": [
        "## 10. Retraining XGBoost with Best Parameters\n",
        "\n",
        "Using the best parameters obtained from hyperparameter tuning, we retrain the XGBoost model on the training data.\n",
        "\n",
        "- This ensures the model leverages optimal settings.\n",
        "- We convert the DataFrames to NumPy arrays to ensure compatibility with XGBoost.\n",
        "- Finally, we evaluate the model's performance again using R² scores.\n"
      ],
      "metadata": {
        "id": "EpcSYy13zgbM"
      }
    },
    {
      "cell_type": "code",
      "source": [
        "# Extract best parameters from RandomizedSearchCV\n",
        "best_params = xgb_search.best_params_\n",
        "best_params.update({'random_state': 42, 'verbosity': 0})\n",
        "\n",
        "# Retrain XGBRegressor on training data with best params\n",
        "final_xgb = XGBRegressor(**best_params)\n",
        "\n",
        "# Use NumPy arrays for XGBoost\n",
        "X_train_np = X_train.to_numpy() if isinstance(X_train, pd.DataFrame) else X_train\n",
        "X_test_np = X_test.to_numpy() if isinstance(X_test, pd.DataFrame) else X_test\n",
        "y_train_np = y_train.to_numpy() if isinstance(y_train, pd.Series) else y_train\n",
        "y_test_np = y_test.to_numpy() if isinstance(y_test, pd.Series) else y_test\n",
        "\n",
        "print(\"Retraining XGBoost with best parameters...\")\n",
        "final_xgb.fit(X_train_np, y_train_np)\n",
        "\n",
        "# Evaluate retrained model\n",
        "train_r2 = final_xgb.score(X_train_np, y_train_np)\n",
        "test_r2 = final_xgb.score(X_test_np, y_test_np)\n",
        "\n",
        "print(f\"Final XGBoost Training R²: {train_r2:.4f}\")\n",
        "print(f\"Final XGBoost Testing R²: {test_r2:.4f}\")\n"
      ],
      "metadata": {
        "colab": {
          "base_uri": "https://localhost:8080/"
        },
        "id": "30p3Ahrt6Vfg",
        "outputId": "8738c844-d652-470d-d523-484664b4ccae"
      },
      "execution_count": null,
      "outputs": [
        {
          "output_type": "stream",
          "name": "stdout",
          "text": [
            "Retraining XGBoost with best parameters...\n",
            "Final XGBoost Training R²: 0.6256\n",
            "Final XGBoost Testing R²: 0.6161\n"
          ]
        }
      ]
    },
    {
      "cell_type": "markdown",
      "source": [
        "## 11. Saving Preprocessing Pipelines and Final Model\n",
        "\n",
        "We save all the fitted preprocessing components and the final tuned XGBoost model into a `./models/` directory using `joblib` and `pickle`.\n",
        "\n",
        "This step is crucial for deployment, allowing us to:\n",
        "- Reuse the same transformations on incoming data.\n",
        "- Load the trained model for inference without retraining.\n",
        "\n",
        "Saved components include:\n",
        "- Scalers\n",
        "- Encoders\n",
        "- Custom mappings\n",
        "- Final trained model\n"
      ],
      "metadata": {
        "id": "Ivzis8C4z5Sf"
      }
    },
    {
      "cell_type": "code",
      "source": [
        "import os\n",
        "import pickle\n",
        "from joblib import dump\n",
        "\n",
        "# Set models folder\n",
        "save_dir = \"./models/\"\n",
        "os.makedirs(save_dir, exist_ok=True)\n",
        "\n",
        "# Save preprocessing components with renamed filenames\n",
        "dump(processor.scaler, save_dir + 'minmax_scaler.pkl')\n",
        "dump(processor.standard_scaler, save_dir + 'zscore_standard_scaler.pkl')\n",
        "dump(processor.yeo_johnson, save_dir + 'yeo_johnson_power_transformer.pkl')\n",
        "dump(processor.one_hot_encoder, save_dir + 'one_hot_encoder_outlet_type.pkl')\n",
        "dump(processor.ordinal_encoder, save_dir + 'ordinal_encoder_outlet_info.pkl')\n",
        "dump(processor.loo_encodings, save_dir + 'loo_encodings_mapping.pkl')\n",
        "dump(processor.item_weight_medians, save_dir + 'item_weight_medians_map.pkl')\n",
        "dump(processor.outlet_size_modes, save_dir + 'outlet_size_modes_map.pkl')\n",
        "dump(processor.median_visibility, save_dir + 'median_visibility_value.pkl')\n",
        "\n",
        "# Save final XGBoost model with new filename\n",
        "with open(save_dir + 'xgboost_sales_model.pkl', 'wb') as f:\n",
        "    pickle.dump(final_xgb, f)\n",
        "\n",
        "print(\"All .pkl files saved to ./models/ with unique and clear filenames.\")\n"
      ],
      "metadata": {
        "colab": {
          "base_uri": "https://localhost:8080/"
        },
        "id": "ZOaYj3Jh7lSI",
        "outputId": "8a5bb6d0-08ce-434f-e600-b0ec91a7d42d"
      },
      "execution_count": null,
      "outputs": [
        {
          "output_type": "stream",
          "name": "stdout",
          "text": [
            "All .pkl files saved to ./models/ with unique and clear filenames.\n"
          ]
        }
      ]
    },
    {
      "cell_type": "markdown",
      "source": [
        "## 12. Verifying Saved `.pkl` Files\n",
        "\n",
        "We list the contents of the `./models/` directory to ensure that all necessary model and preprocessing artifacts have been saved correctly.\n"
      ],
      "metadata": {
        "id": "_bls0Q_w0KDh"
      }
    },
    {
      "cell_type": "code",
      "source": [
        "import os\n",
        "\n",
        "# List all files in ./models/\n",
        "print(\"Saved .pkl files:\")\n",
        "for file in os.listdir(\"./models/\"):\n",
        "    print(file)\n"
      ],
      "metadata": {
        "colab": {
          "base_uri": "https://localhost:8080/"
        },
        "id": "OKJncKKG7x24",
        "outputId": "c5c15808-42c6-40a0-b448-f30c18ebd5c6"
      },
      "execution_count": null,
      "outputs": [
        {
          "output_type": "stream",
          "name": "stdout",
          "text": [
            "Saved .pkl files:\n",
            "median_visibility_value.pkl\n",
            "loo_encodings_mapping.pkl\n",
            "xgboost_sales_model.pkl\n",
            "item_weight_medians_map.pkl\n",
            "yeo_johnson_power_transformer.pkl\n",
            "ordinal_encoder_outlet_info.pkl\n",
            "zscore_standard_scaler.pkl\n",
            "minmax_scaler.pkl\n",
            "outlet_size_modes_map.pkl\n",
            "one_hot_encoder_outlet_type.pkl\n"
          ]
        }
      ]
    },
    {
      "cell_type": "markdown",
      "source": [
        "## 13. Downloading `.pkl` Files from Google Colab\n",
        "\n",
        "This cell downloads all model and preprocessing `.pkl` files from the `./models/` directory to your local system.\n"
      ],
      "metadata": {
        "id": "AXzpmWnd0UCt"
      }
    },
    {
      "cell_type": "code",
      "source": [
        "from google.colab import files\n",
        "import glob\n",
        "\n",
        "for file in glob.glob('./models/*.pkl'):\n",
        "    files.download(file)\n"
      ],
      "metadata": {
        "colab": {
          "base_uri": "https://localhost:8080/",
          "height": 191
        },
        "id": "sLuLshKA7x3h",
        "outputId": "ce0298b2-4701-48ef-839a-98e3ab9d300b"
      },
      "execution_count": null,
      "outputs": [
        {
          "output_type": "display_data",
          "data": {
            "text/plain": [
              "<IPython.core.display.Javascript object>"
            ],
            "application/javascript": [
              "\n",
              "    async function download(id, filename, size) {\n",
              "      if (!google.colab.kernel.accessAllowed) {\n",
              "        return;\n",
              "      }\n",
              "      const div = document.createElement('div');\n",
              "      const label = document.createElement('label');\n",
              "      label.textContent = `Downloading \"${filename}\": `;\n",
              "      div.appendChild(label);\n",
              "      const progress = document.createElement('progress');\n",
              "      progress.max = size;\n",
              "      div.appendChild(progress);\n",
              "      document.body.appendChild(div);\n",
              "\n",
              "      const buffers = [];\n",
              "      let downloaded = 0;\n",
              "\n",
              "      const channel = await google.colab.kernel.comms.open(id);\n",
              "      // Send a message to notify the kernel that we're ready.\n",
              "      channel.send({})\n",
              "\n",
              "      for await (const message of channel.messages) {\n",
              "        // Send a message to notify the kernel that we're ready.\n",
              "        channel.send({})\n",
              "        if (message.buffers) {\n",
              "          for (const buffer of message.buffers) {\n",
              "            buffers.push(buffer);\n",
              "            downloaded += buffer.byteLength;\n",
              "            progress.value = downloaded;\n",
              "          }\n",
              "        }\n",
              "      }\n",
              "      const blob = new Blob(buffers, {type: 'application/binary'});\n",
              "      const a = document.createElement('a');\n",
              "      a.href = window.URL.createObjectURL(blob);\n",
              "      a.download = filename;\n",
              "      div.appendChild(a);\n",
              "      a.click();\n",
              "      div.remove();\n",
              "    }\n",
              "  "
            ]
          },
          "metadata": {}
        },
        {
          "output_type": "display_data",
          "data": {
            "text/plain": [
              "<IPython.core.display.Javascript object>"
            ],
            "application/javascript": [
              "download(\"download_29963b40-c983-46f0-87a4-06a4d4c43af4\", \"median_visibility_value.pkl\", 21)"
            ]
          },
          "metadata": {}
        },
        {
          "output_type": "display_data",
          "data": {
            "text/plain": [
              "<IPython.core.display.Javascript object>"
            ],
            "application/javascript": [
              "\n",
              "    async function download(id, filename, size) {\n",
              "      if (!google.colab.kernel.accessAllowed) {\n",
              "        return;\n",
              "      }\n",
              "      const div = document.createElement('div');\n",
              "      const label = document.createElement('label');\n",
              "      label.textContent = `Downloading \"${filename}\": `;\n",
              "      div.appendChild(label);\n",
              "      const progress = document.createElement('progress');\n",
              "      progress.max = size;\n",
              "      div.appendChild(progress);\n",
              "      document.body.appendChild(div);\n",
              "\n",
              "      const buffers = [];\n",
              "      let downloaded = 0;\n",
              "\n",
              "      const channel = await google.colab.kernel.comms.open(id);\n",
              "      // Send a message to notify the kernel that we're ready.\n",
              "      channel.send({})\n",
              "\n",
              "      for await (const message of channel.messages) {\n",
              "        // Send a message to notify the kernel that we're ready.\n",
              "        channel.send({})\n",
              "        if (message.buffers) {\n",
              "          for (const buffer of message.buffers) {\n",
              "            buffers.push(buffer);\n",
              "            downloaded += buffer.byteLength;\n",
              "            progress.value = downloaded;\n",
              "          }\n",
              "        }\n",
              "      }\n",
              "      const blob = new Blob(buffers, {type: 'application/binary'});\n",
              "      const a = document.createElement('a');\n",
              "      a.href = window.URL.createObjectURL(blob);\n",
              "      a.download = filename;\n",
              "      div.appendChild(a);\n",
              "      a.click();\n",
              "      div.remove();\n",
              "    }\n",
              "  "
            ]
          },
          "metadata": {}
        },
        {
          "output_type": "display_data",
          "data": {
            "text/plain": [
              "<IPython.core.display.Javascript object>"
            ],
            "application/javascript": [
              "download(\"download_261ab021-11cb-4b4d-9465-227cc46b4dc5\", \"loo_encodings_mapping.pkl\", 163350)"
            ]
          },
          "metadata": {}
        },
        {
          "output_type": "display_data",
          "data": {
            "text/plain": [
              "<IPython.core.display.Javascript object>"
            ],
            "application/javascript": [
              "\n",
              "    async function download(id, filename, size) {\n",
              "      if (!google.colab.kernel.accessAllowed) {\n",
              "        return;\n",
              "      }\n",
              "      const div = document.createElement('div');\n",
              "      const label = document.createElement('label');\n",
              "      label.textContent = `Downloading \"${filename}\": `;\n",
              "      div.appendChild(label);\n",
              "      const progress = document.createElement('progress');\n",
              "      progress.max = size;\n",
              "      div.appendChild(progress);\n",
              "      document.body.appendChild(div);\n",
              "\n",
              "      const buffers = [];\n",
              "      let downloaded = 0;\n",
              "\n",
              "      const channel = await google.colab.kernel.comms.open(id);\n",
              "      // Send a message to notify the kernel that we're ready.\n",
              "      channel.send({})\n",
              "\n",
              "      for await (const message of channel.messages) {\n",
              "        // Send a message to notify the kernel that we're ready.\n",
              "        channel.send({})\n",
              "        if (message.buffers) {\n",
              "          for (const buffer of message.buffers) {\n",
              "            buffers.push(buffer);\n",
              "            downloaded += buffer.byteLength;\n",
              "            progress.value = downloaded;\n",
              "          }\n",
              "        }\n",
              "      }\n",
              "      const blob = new Blob(buffers, {type: 'application/binary'});\n",
              "      const a = document.createElement('a');\n",
              "      a.href = window.URL.createObjectURL(blob);\n",
              "      a.download = filename;\n",
              "      div.appendChild(a);\n",
              "      a.click();\n",
              "      div.remove();\n",
              "    }\n",
              "  "
            ]
          },
          "metadata": {}
        },
        {
          "output_type": "display_data",
          "data": {
            "text/plain": [
              "<IPython.core.display.Javascript object>"
            ],
            "application/javascript": [
              "download(\"download_8e57a73b-c326-4c9e-95aa-52493918df7e\", \"xgboost_sales_model.pkl\", 811101)"
            ]
          },
          "metadata": {}
        },
        {
          "output_type": "display_data",
          "data": {
            "text/plain": [
              "<IPython.core.display.Javascript object>"
            ],
            "application/javascript": [
              "\n",
              "    async function download(id, filename, size) {\n",
              "      if (!google.colab.kernel.accessAllowed) {\n",
              "        return;\n",
              "      }\n",
              "      const div = document.createElement('div');\n",
              "      const label = document.createElement('label');\n",
              "      label.textContent = `Downloading \"${filename}\": `;\n",
              "      div.appendChild(label);\n",
              "      const progress = document.createElement('progress');\n",
              "      progress.max = size;\n",
              "      div.appendChild(progress);\n",
              "      document.body.appendChild(div);\n",
              "\n",
              "      const buffers = [];\n",
              "      let downloaded = 0;\n",
              "\n",
              "      const channel = await google.colab.kernel.comms.open(id);\n",
              "      // Send a message to notify the kernel that we're ready.\n",
              "      channel.send({})\n",
              "\n",
              "      for await (const message of channel.messages) {\n",
              "        // Send a message to notify the kernel that we're ready.\n",
              "        channel.send({})\n",
              "        if (message.buffers) {\n",
              "          for (const buffer of message.buffers) {\n",
              "            buffers.push(buffer);\n",
              "            downloaded += buffer.byteLength;\n",
              "            progress.value = downloaded;\n",
              "          }\n",
              "        }\n",
              "      }\n",
              "      const blob = new Blob(buffers, {type: 'application/binary'});\n",
              "      const a = document.createElement('a');\n",
              "      a.href = window.URL.createObjectURL(blob);\n",
              "      a.download = filename;\n",
              "      div.appendChild(a);\n",
              "      a.click();\n",
              "      div.remove();\n",
              "    }\n",
              "  "
            ]
          },
          "metadata": {}
        },
        {
          "output_type": "display_data",
          "data": {
            "text/plain": [
              "<IPython.core.display.Javascript object>"
            ],
            "application/javascript": [
              "download(\"download_cb70bab8-ca85-48c9-aca1-a6072ce90c58\", \"item_weight_medians_map.pkl\", 369)"
            ]
          },
          "metadata": {}
        },
        {
          "output_type": "display_data",
          "data": {
            "text/plain": [
              "<IPython.core.display.Javascript object>"
            ],
            "application/javascript": [
              "\n",
              "    async function download(id, filename, size) {\n",
              "      if (!google.colab.kernel.accessAllowed) {\n",
              "        return;\n",
              "      }\n",
              "      const div = document.createElement('div');\n",
              "      const label = document.createElement('label');\n",
              "      label.textContent = `Downloading \"${filename}\": `;\n",
              "      div.appendChild(label);\n",
              "      const progress = document.createElement('progress');\n",
              "      progress.max = size;\n",
              "      div.appendChild(progress);\n",
              "      document.body.appendChild(div);\n",
              "\n",
              "      const buffers = [];\n",
              "      let downloaded = 0;\n",
              "\n",
              "      const channel = await google.colab.kernel.comms.open(id);\n",
              "      // Send a message to notify the kernel that we're ready.\n",
              "      channel.send({})\n",
              "\n",
              "      for await (const message of channel.messages) {\n",
              "        // Send a message to notify the kernel that we're ready.\n",
              "        channel.send({})\n",
              "        if (message.buffers) {\n",
              "          for (const buffer of message.buffers) {\n",
              "            buffers.push(buffer);\n",
              "            downloaded += buffer.byteLength;\n",
              "            progress.value = downloaded;\n",
              "          }\n",
              "        }\n",
              "      }\n",
              "      const blob = new Blob(buffers, {type: 'application/binary'});\n",
              "      const a = document.createElement('a');\n",
              "      a.href = window.URL.createObjectURL(blob);\n",
              "      a.download = filename;\n",
              "      div.appendChild(a);\n",
              "      a.click();\n",
              "      div.remove();\n",
              "    }\n",
              "  "
            ]
          },
          "metadata": {}
        },
        {
          "output_type": "display_data",
          "data": {
            "text/plain": [
              "<IPython.core.display.Javascript object>"
            ],
            "application/javascript": [
              "download(\"download_1f174012-6fa5-4389-a8f4-0fb736af1cd6\", \"yeo_johnson_power_transformer.pkl\", 1221)"
            ]
          },
          "metadata": {}
        },
        {
          "output_type": "display_data",
          "data": {
            "text/plain": [
              "<IPython.core.display.Javascript object>"
            ],
            "application/javascript": [
              "\n",
              "    async function download(id, filename, size) {\n",
              "      if (!google.colab.kernel.accessAllowed) {\n",
              "        return;\n",
              "      }\n",
              "      const div = document.createElement('div');\n",
              "      const label = document.createElement('label');\n",
              "      label.textContent = `Downloading \"${filename}\": `;\n",
              "      div.appendChild(label);\n",
              "      const progress = document.createElement('progress');\n",
              "      progress.max = size;\n",
              "      div.appendChild(progress);\n",
              "      document.body.appendChild(div);\n",
              "\n",
              "      const buffers = [];\n",
              "      let downloaded = 0;\n",
              "\n",
              "      const channel = await google.colab.kernel.comms.open(id);\n",
              "      // Send a message to notify the kernel that we're ready.\n",
              "      channel.send({})\n",
              "\n",
              "      for await (const message of channel.messages) {\n",
              "        // Send a message to notify the kernel that we're ready.\n",
              "        channel.send({})\n",
              "        if (message.buffers) {\n",
              "          for (const buffer of message.buffers) {\n",
              "            buffers.push(buffer);\n",
              "            downloaded += buffer.byteLength;\n",
              "            progress.value = downloaded;\n",
              "          }\n",
              "        }\n",
              "      }\n",
              "      const blob = new Blob(buffers, {type: 'application/binary'});\n",
              "      const a = document.createElement('a');\n",
              "      a.href = window.URL.createObjectURL(blob);\n",
              "      a.download = filename;\n",
              "      div.appendChild(a);\n",
              "      a.click();\n",
              "      div.remove();\n",
              "    }\n",
              "  "
            ]
          },
          "metadata": {}
        },
        {
          "output_type": "display_data",
          "data": {
            "text/plain": [
              "<IPython.core.display.Javascript object>"
            ],
            "application/javascript": [
              "download(\"download_eab095b1-a344-4d60-acf8-3e5bfd6475c5\", \"ordinal_encoder_outlet_info.pkl\", 1260)"
            ]
          },
          "metadata": {}
        },
        {
          "output_type": "display_data",
          "data": {
            "text/plain": [
              "<IPython.core.display.Javascript object>"
            ],
            "application/javascript": [
              "\n",
              "    async function download(id, filename, size) {\n",
              "      if (!google.colab.kernel.accessAllowed) {\n",
              "        return;\n",
              "      }\n",
              "      const div = document.createElement('div');\n",
              "      const label = document.createElement('label');\n",
              "      label.textContent = `Downloading \"${filename}\": `;\n",
              "      div.appendChild(label);\n",
              "      const progress = document.createElement('progress');\n",
              "      progress.max = size;\n",
              "      div.appendChild(progress);\n",
              "      document.body.appendChild(div);\n",
              "\n",
              "      const buffers = [];\n",
              "      let downloaded = 0;\n",
              "\n",
              "      const channel = await google.colab.kernel.comms.open(id);\n",
              "      // Send a message to notify the kernel that we're ready.\n",
              "      channel.send({})\n",
              "\n",
              "      for await (const message of channel.messages) {\n",
              "        // Send a message to notify the kernel that we're ready.\n",
              "        channel.send({})\n",
              "        if (message.buffers) {\n",
              "          for (const buffer of message.buffers) {\n",
              "            buffers.push(buffer);\n",
              "            downloaded += buffer.byteLength;\n",
              "            progress.value = downloaded;\n",
              "          }\n",
              "        }\n",
              "      }\n",
              "      const blob = new Blob(buffers, {type: 'application/binary'});\n",
              "      const a = document.createElement('a');\n",
              "      a.href = window.URL.createObjectURL(blob);\n",
              "      a.download = filename;\n",
              "      div.appendChild(a);\n",
              "      a.click();\n",
              "      div.remove();\n",
              "    }\n",
              "  "
            ]
          },
          "metadata": {}
        },
        {
          "output_type": "display_data",
          "data": {
            "text/plain": [
              "<IPython.core.display.Javascript object>"
            ],
            "application/javascript": [
              "download(\"download_aa02637b-44cd-4b38-b34d-2a3b90e436b5\", \"zscore_standard_scaler.pkl\", 967)"
            ]
          },
          "metadata": {}
        },
        {
          "output_type": "display_data",
          "data": {
            "text/plain": [
              "<IPython.core.display.Javascript object>"
            ],
            "application/javascript": [
              "\n",
              "    async function download(id, filename, size) {\n",
              "      if (!google.colab.kernel.accessAllowed) {\n",
              "        return;\n",
              "      }\n",
              "      const div = document.createElement('div');\n",
              "      const label = document.createElement('label');\n",
              "      label.textContent = `Downloading \"${filename}\": `;\n",
              "      div.appendChild(label);\n",
              "      const progress = document.createElement('progress');\n",
              "      progress.max = size;\n",
              "      div.appendChild(progress);\n",
              "      document.body.appendChild(div);\n",
              "\n",
              "      const buffers = [];\n",
              "      let downloaded = 0;\n",
              "\n",
              "      const channel = await google.colab.kernel.comms.open(id);\n",
              "      // Send a message to notify the kernel that we're ready.\n",
              "      channel.send({})\n",
              "\n",
              "      for await (const message of channel.messages) {\n",
              "        // Send a message to notify the kernel that we're ready.\n",
              "        channel.send({})\n",
              "        if (message.buffers) {\n",
              "          for (const buffer of message.buffers) {\n",
              "            buffers.push(buffer);\n",
              "            downloaded += buffer.byteLength;\n",
              "            progress.value = downloaded;\n",
              "          }\n",
              "        }\n",
              "      }\n",
              "      const blob = new Blob(buffers, {type: 'application/binary'});\n",
              "      const a = document.createElement('a');\n",
              "      a.href = window.URL.createObjectURL(blob);\n",
              "      a.download = filename;\n",
              "      div.appendChild(a);\n",
              "      a.click();\n",
              "      div.remove();\n",
              "    }\n",
              "  "
            ]
          },
          "metadata": {}
        },
        {
          "output_type": "display_data",
          "data": {
            "text/plain": [
              "<IPython.core.display.Javascript object>"
            ],
            "application/javascript": [
              "download(\"download_5ab8032a-75f0-4c00-8f30-a1f61637af7d\", \"minmax_scaler.pkl\", 975)"
            ]
          },
          "metadata": {}
        },
        {
          "output_type": "display_data",
          "data": {
            "text/plain": [
              "<IPython.core.display.Javascript object>"
            ],
            "application/javascript": [
              "\n",
              "    async function download(id, filename, size) {\n",
              "      if (!google.colab.kernel.accessAllowed) {\n",
              "        return;\n",
              "      }\n",
              "      const div = document.createElement('div');\n",
              "      const label = document.createElement('label');\n",
              "      label.textContent = `Downloading \"${filename}\": `;\n",
              "      div.appendChild(label);\n",
              "      const progress = document.createElement('progress');\n",
              "      progress.max = size;\n",
              "      div.appendChild(progress);\n",
              "      document.body.appendChild(div);\n",
              "\n",
              "      const buffers = [];\n",
              "      let downloaded = 0;\n",
              "\n",
              "      const channel = await google.colab.kernel.comms.open(id);\n",
              "      // Send a message to notify the kernel that we're ready.\n",
              "      channel.send({})\n",
              "\n",
              "      for await (const message of channel.messages) {\n",
              "        // Send a message to notify the kernel that we're ready.\n",
              "        channel.send({})\n",
              "        if (message.buffers) {\n",
              "          for (const buffer of message.buffers) {\n",
              "            buffers.push(buffer);\n",
              "            downloaded += buffer.byteLength;\n",
              "            progress.value = downloaded;\n",
              "          }\n",
              "        }\n",
              "      }\n",
              "      const blob = new Blob(buffers, {type: 'application/binary'});\n",
              "      const a = document.createElement('a');\n",
              "      a.href = window.URL.createObjectURL(blob);\n",
              "      a.download = filename;\n",
              "      div.appendChild(a);\n",
              "      a.click();\n",
              "      div.remove();\n",
              "    }\n",
              "  "
            ]
          },
          "metadata": {}
        },
        {
          "output_type": "display_data",
          "data": {
            "text/plain": [
              "<IPython.core.display.Javascript object>"
            ],
            "application/javascript": [
              "download(\"download_f6225b33-899e-4a5d-9a65-f542d1260daf\", \"outlet_size_modes_map.pkl\", 113)"
            ]
          },
          "metadata": {}
        },
        {
          "output_type": "display_data",
          "data": {
            "text/plain": [
              "<IPython.core.display.Javascript object>"
            ],
            "application/javascript": [
              "\n",
              "    async function download(id, filename, size) {\n",
              "      if (!google.colab.kernel.accessAllowed) {\n",
              "        return;\n",
              "      }\n",
              "      const div = document.createElement('div');\n",
              "      const label = document.createElement('label');\n",
              "      label.textContent = `Downloading \"${filename}\": `;\n",
              "      div.appendChild(label);\n",
              "      const progress = document.createElement('progress');\n",
              "      progress.max = size;\n",
              "      div.appendChild(progress);\n",
              "      document.body.appendChild(div);\n",
              "\n",
              "      const buffers = [];\n",
              "      let downloaded = 0;\n",
              "\n",
              "      const channel = await google.colab.kernel.comms.open(id);\n",
              "      // Send a message to notify the kernel that we're ready.\n",
              "      channel.send({})\n",
              "\n",
              "      for await (const message of channel.messages) {\n",
              "        // Send a message to notify the kernel that we're ready.\n",
              "        channel.send({})\n",
              "        if (message.buffers) {\n",
              "          for (const buffer of message.buffers) {\n",
              "            buffers.push(buffer);\n",
              "            downloaded += buffer.byteLength;\n",
              "            progress.value = downloaded;\n",
              "          }\n",
              "        }\n",
              "      }\n",
              "      const blob = new Blob(buffers, {type: 'application/binary'});\n",
              "      const a = document.createElement('a');\n",
              "      a.href = window.URL.createObjectURL(blob);\n",
              "      a.download = filename;\n",
              "      div.appendChild(a);\n",
              "      a.click();\n",
              "      div.remove();\n",
              "    }\n",
              "  "
            ]
          },
          "metadata": {}
        },
        {
          "output_type": "display_data",
          "data": {
            "text/plain": [
              "<IPython.core.display.Javascript object>"
            ],
            "application/javascript": [
              "download(\"download_681799d2-2eaa-428b-af26-05a4a54c6a90\", \"one_hot_encoder_outlet_type.pkl\", 1047)"
            ]
          },
          "metadata": {}
        }
      ]
    }
  ]
}